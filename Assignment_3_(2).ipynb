{
  "cells": [
    {
      "cell_type": "markdown",
      "metadata": {
        "id": "8EAA13WGLVDi"
      },
      "source": [
        "## Python Task 3"
      ]
    },
    {
      "cell_type": "markdown",
      "metadata": {
        "id": "TeGU1RYkLVDk"
      },
      "source": [
        "### Question: Count Vowels in a String\n",
        "\n",
        "**Description:** Write a function named count_vowels that takes a string as an argument and returns the count of vowels (a, e, i, o, u) in the string.\n",
        "\n",
        "The function should be case-insensitive, counting both uppercase and lowercase vowels.\n"
      ]
    },
    {
      "cell_type": "code",
      "execution_count": null,
      "metadata": {
        "id": "Mb5cmP6LLVDl"
      },
      "outputs": [],
      "source": [
        "'''\n",
        "# Example Input:\n",
        "text = \"Hello World\"\n",
        "# Expected Output:\n",
        "3\n",
        "'''\n"
      ]
    },
    {
      "cell_type": "code",
      "execution_count": 4,
      "metadata": {
        "id": "134ebDPlLVDm"
      },
      "outputs": [],
      "source": [
        "def count_vowels(text):\n",
        "    vowels = \"aeiou\"\n",
        "    count = 0\n",
        "    for char in text:\n",
        "        if char in vowels:\n",
        "            count += 1\n",
        "    return count"
      ]
    },
    {
      "cell_type": "markdown",
      "metadata": {
        "id": "pAtCNjk2LVDm"
      },
      "source": [
        "### Question: Find the Maximum Value in a List Using a Function\n",
        "Description: Write a function named find_max that takes a list of integers as an argument and returns the maximum value in the list.\n",
        "\n",
        "Do not use Python’s built-in max() function. The function should handle cases where the list is empty by returning None.\n"
      ]
    },
    {
      "cell_type": "code",
      "execution_count": null,
      "metadata": {
        "id": "RURSbdalLVDn"
      },
      "outputs": [],
      "source": [
        "'''\n",
        "# Example Input:\n",
        "numbers = [3, 5, 2, 8, 1]\n",
        "# Expected Output:\n",
        "8\n",
        "'''"
      ]
    },
    {
      "cell_type": "code",
      "execution_count": 5,
      "metadata": {
        "id": "7CBdNgPMLVDn"
      },
      "outputs": [],
      "source": [
        "def find_max(numbers):\n",
        "    if not numbers:\n",
        "        return None\n",
        "    max_value = numbers[0]\n",
        "    for num in numbers:\n",
        "        if num > max_value:\n",
        "            max_value = num\n",
        "    return max_value"
      ]
    }
  ],
  "metadata": {
    "kernelspec": {
      "display_name": "base",
      "language": "python",
      "name": "python3"
    },
    "language_info": {
      "codemirror_mode": {
        "name": "ipython",
        "version": 3
      },
      "file_extension": ".py",
      "mimetype": "text/x-python",
      "name": "python",
      "nbconvert_exporter": "python",
      "pygments_lexer": "ipython3",
      "version": "3.11.5"
    },
    "colab": {
      "provenance": []
    }
  },
  "nbformat": 4,
  "nbformat_minor": 0
}